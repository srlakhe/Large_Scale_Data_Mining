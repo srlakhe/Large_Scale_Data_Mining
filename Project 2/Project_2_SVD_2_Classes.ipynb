{
 "cells": [
  {
   "cell_type": "code",
   "execution_count": 47,
   "metadata": {
    "collapsed": true
   },
   "outputs": [],
   "source": [
    "from sklearn.datasets import fetch_20newsgroups\n",
    "from sklearn.utils import shuffle\n",
    "from sklearn import svm\n",
    "from nltk.corpus import stopwords\n",
    "from sklearn.feature_extraction.text import TfidfTransformer\n",
    "from sklearn.feature_extraction.text import CountVectorizer, TfidfVectorizer\n",
    "from sklearn.metrics import precision_recall_fscore_support, homogeneity_score, adjusted_mutual_info_score, completeness_score, adjusted_rand_score, v_measure_score\n",
    "from sklearn.metrics import accuracy_score, roc_curve, precision_score, recall_score\n",
    "import scikitplot as skplt\n",
    "import matplotlib.pyplot as plt\n",
    "from matplotlib import pylab\n",
    "import re\n",
    "import numpy as np\n",
    "from sklearn.model_selection import GridSearchCV\n",
    "from sklearn.metrics import classification_report\n",
    "from sklearn.metrics import confusion_matrix\n",
    "from sklearn.decomposition import NMF\n",
    "from sklearn.cluster import KMeans\n",
    "from sklearn.metrics.cluster import contingency_matrix\n",
    "from sklearn.decomposition import TruncatedSVD\n",
    "from sklearn.decomposition import PCA"
   ]
  },
  {
   "cell_type": "code",
   "execution_count": 48,
   "metadata": {
    "collapsed": true
   },
   "outputs": [],
   "source": [
    "class1 = ['comp.graphics', \n",
    "                       'comp.os.ms-windows.misc', \n",
    "                       'comp.sys.ibm.pc.hardware', \n",
    "                       'comp.sys.mac.hardware']\n",
    "\n",
    "class2 = [ 'rec.autos', \n",
    "                         'rec.motorcycles', \n",
    "                         'rec.sport.baseball', \n",
    "                         'rec.sport.hockey' ]"
   ]
  },
  {
   "cell_type": "code",
   "execution_count": 49,
   "metadata": {
    "collapsed": true
   },
   "outputs": [],
   "source": [
    "target_names = ['class1', 'class2']"
   ]
  },
  {
   "cell_type": "code",
   "execution_count": 50,
   "metadata": {
    "collapsed": true
   },
   "outputs": [],
   "source": [
    "c1_train_x = fetch_20newsgroups(subset='all', categories=class1, shuffle=True, random_state=42)\n",
    "c2_train_x = fetch_20newsgroups(subset='all', categories=class2, shuffle=True, random_state=42)\n",
    "comb_train_x = c1_train_x.data + c2_train_x.data"
   ]
  },
  {
   "cell_type": "code",
   "execution_count": 51,
   "metadata": {
    "collapsed": true
   },
   "outputs": [],
   "source": [
    "c1_train_y = [0] * len(c1_train_x.target)\n",
    "c2_train_y = [1] * len(c2_train_x.target)\n",
    "\n",
    "train_y = c1_train_y + c2_train_y"
   ]
  },
  {
   "cell_type": "code",
   "execution_count": 52,
   "metadata": {
    "collapsed": true
   },
   "outputs": [],
   "source": [
    "def preprocess_data(data):\n",
    "        letters_only = re.sub(\"[^a-zA-Z]\", \" \", data)\n",
    "        words = letters_only.split()\n",
    "        words = [w.lower() for w in words if not w.lower() in stopwords.words('english')]\n",
    "        return(\" \".join( words ))"
   ]
  },
  {
   "cell_type": "code",
   "execution_count": 53,
   "metadata": {
    "collapsed": true
   },
   "outputs": [],
   "source": [
    "preproc_train_data = []\n",
    "\n",
    "for data in comb_train_x:\n",
    "\tpreproc_train_data.append((data))"
   ]
  },
  {
   "cell_type": "markdown",
   "metadata": {},
   "source": [
    "<h3>Creating a TFxIDF vector representation of training and test data</h3><br> A CountVectorizer object is created to first build a vocabulary of words and their respective counts, and then transform the sentences by replacing the words with their respective counts. A TfIdfTransformer object is created and then fit on the training dataset to then extract TfIdf features from each document in both training and test datasets. "
   ]
  },
  {
   "cell_type": "code",
   "execution_count": 54,
   "metadata": {
    "collapsed": true
   },
   "outputs": [],
   "source": [
    "#vectorizer = CountVectorizer(min_df = 3)\n",
    "#tfidf_transformer = TfidfTransformer()\n",
    "#vec_train_x = vectorizer.fit_transform(preproc_train_data)\n",
    "#tfidf_train_x = tfidf_transformer.fit_transform(vec_train_x)\n",
    "\n",
    "vectorizer = TfidfVectorizer(min_df=3, stop_words='english')\n",
    "tfidf_train_x = vectorizer.fit_transform(preproc_train_data)"
   ]
  },
  {
   "cell_type": "code",
   "execution_count": 55,
   "metadata": {},
   "outputs": [
    {
     "name": "stdout",
     "output_type": "stream",
     "text": [
      "Dimensions of the TFIDF matrix are: (7882, 27768)\n"
     ]
    }
   ],
   "source": [
    "print('Dimensions of the TFIDF matrix are: ' + str(tfidf_train_x.shape))"
   ]
  },
  {
   "cell_type": "code",
   "execution_count": 56,
   "metadata": {},
   "outputs": [
    {
     "data": {
      "text/plain": [
       "KMeans(algorithm='auto', copy_x=True, init='k-means++', max_iter=100,\n",
       "    n_clusters=2, n_init=10, n_jobs=1, precompute_distances='auto',\n",
       "    random_state=35, tol=0.0001, verbose=0)"
      ]
     },
     "execution_count": 56,
     "metadata": {},
     "output_type": "execute_result"
    }
   ],
   "source": [
    "km = KMeans(n_clusters=2, init='k-means++', max_iter=100, n_init=10, random_state=35)\n",
    "km.fit(tfidf_train_x)"
   ]
  },
  {
   "cell_type": "code",
   "execution_count": 57,
   "metadata": {},
   "outputs": [
    {
     "data": {
      "text/plain": [
       "array([[3899,    4],\n",
       "       [2251, 1728]])"
      ]
     },
     "execution_count": 57,
     "metadata": {},
     "output_type": "execute_result"
    }
   ],
   "source": [
    "contingency_matrix(train_y, km.labels_)"
   ]
  },
  {
   "cell_type": "code",
   "execution_count": 58,
   "metadata": {
    "scrolled": true
   },
   "outputs": [
    {
     "name": "stdout",
     "output_type": "stream",
     "text": [
      "Homogeneity: 0.255\n",
      "Completeness: 0.336\n",
      "V-measure: 0.290\n",
      "Adjusted Rand-Index: 0.183\n",
      "Adjusted Mutual Info: 0.255\n"
     ]
    }
   ],
   "source": [
    "print(\"Homogeneity: %0.3f\" % homogeneity_score(train_y, km.labels_))\n",
    "print(\"Completeness: %0.3f\" % completeness_score(train_y, km.labels_))\n",
    "print(\"V-measure: %0.3f\" % v_measure_score(train_y, km.labels_))\n",
    "print(\"Adjusted Rand-Index: %.3f\"\n",
    "      % adjusted_rand_score(train_y, km.labels_))\n",
    "print(\"Adjusted Mutual Info: %.3f\"\n",
    "      % adjusted_mutual_info_score(train_y, km.labels_))"
   ]
  },
  {
   "cell_type": "code",
   "execution_count": 59,
   "metadata": {},
   "outputs": [],
   "source": [
    "svd_model = TruncatedSVD(n_components=1000, random_state=0)\n",
    "train_x2 = svd_model.fit_transform(tfidf_train_x)"
   ]
  },
  {
   "cell_type": "code",
   "execution_count": 70,
   "metadata": {
    "collapsed": true
   },
   "outputs": [],
   "source": [
    "r_values = [1, 2, 3, 5, 10, 20, 50, 100, 300]\n",
    "homogeneity = []\n",
    "completeness = []\n",
    "v_mes = []\n",
    "rand_ind = []\n",
    "mutual_info = []"
   ]
  },
  {
   "cell_type": "code",
   "execution_count": 71,
   "metadata": {},
   "outputs": [],
   "source": [
    "for r in r_values:\n",
    "    km.fit(train_x2[:,:r])\n",
    "    homogeneity.append(homogeneity_score(train_y, km.labels_))\n",
    "    completeness.append(completeness_score(train_y, km.labels_))\n",
    "    v_mes.append(v_measure_score(train_y, km.labels_))\n",
    "    rand_ind.append(adjusted_rand_score(train_y, km.labels_))\n",
    "    mutual_info.append(adjusted_mutual_info_score(train_y, km.labels_))"
   ]
  },
  {
   "cell_type": "code",
   "execution_count": 72,
   "metadata": {},
   "outputs": [
    {
     "data": {
      "image/png": "[encoded data removed]",
      "text/plain": [
       "<matplotlib.figure.Figure at 0x10ab391d0>"
      ]
     },
     "metadata": {},
     "output_type": "display_data"
    }
   ],
   "source": [
    "fig = plt.figure()\n",
    "\n",
    "plt.plot(r_values, homogeneity, label='Homogeneity Values')\n",
    "plt.plot(r_values, completeness, label='Completeness Values')\n",
    "plt.plot(r_values, v_mes, label='V Measure Values')\n",
    "plt.plot(r_values, rand_ind, label='Adjusted Rand Values')\n",
    "plt.plot(r_values, mutual_info, label='Adjusted Mutual Info Values')\n",
    "\n",
    "fig.suptitle('Measure variations vs r')\n",
    "pylab.xlabel('r value')\n",
    "pylab.ylabel('Score values')\n",
    "plt.legend(['Homogeneity', 'Completeness', 'Measure', 'Adjusted Rand', 'Adjusted Mutual Info'], loc='upper right')\n",
    "plt.show()"
   ]
  },
  {
   "cell_type": "code",
   "execution_count": 75,
   "metadata": {
    "collapsed": true
   },
   "outputs": [],
   "source": [
    "best_train = train_x2[:,:2]"
   ]
  },
  {
   "cell_type": "code",
   "execution_count": 76,
   "metadata": {},
   "outputs": [
    {
     "name": "stdout",
     "output_type": "stream",
     "text": [
      "Homogeneity: 0.596\n",
      "Completeness: 0.597\n",
      "V-measure: 0.597\n",
      "Adjusted Rand-Index: 0.697\n",
      "Adjusted Mutual Info: 0.596\n"
     ]
    }
   ],
   "source": [
    "km.fit(best_train)\n",
    "\n",
    "print(\"Homogeneity: %0.3f\" % homogeneity_score(train_y, km.labels_))\n",
    "print(\"Completeness: %0.3f\" % completeness_score(train_y, km.labels_))\n",
    "print(\"V-measure: %0.3f\" % v_measure_score(train_y, km.labels_))\n",
    "print(\"Adjusted Rand-Index: %.3f\"\n",
    "% adjusted_rand_score(train_y, km.labels_))\n",
    "print(\"Adjusted Mutual Info: %.3f\"\n",
    "% adjusted_mutual_info_score(train_y, km.labels_))"
   ]
  },
  {
   "cell_type": "code",
   "execution_count": 77,
   "metadata": {},
   "outputs": [
    {
     "data": {
      "text/plain": [
       "array([[3699,  204],\n",
       "       [ 446, 3533]])"
      ]
     },
     "execution_count": 77,
     "metadata": {},
     "output_type": "execute_result"
    }
   ],
   "source": [
    "contingency_matrix(train_y, km.labels_)"
   ]
  },
  {
   "cell_type": "code",
   "execution_count": 78,
   "metadata": {},
   "outputs": [],
   "source": [
    "y_kmeans = km.predict(best_train)"
   ]
  },
  {
   "cell_type": "code",
   "execution_count": 79,
   "metadata": {
    "scrolled": true
   },
   "outputs": [
    {
     "data": {
      "image/png": "[encoded data removed]",
      "text/plain": [
       "<matplotlib.figure.Figure at 0x1a11ec4290>"
      ]
     },
     "metadata": {},
     "output_type": "display_data"
    }
   ],
   "source": [
    "fig = plt.figure()\n",
    "\n",
    "plt.scatter(train_x2[:,:2][:,0], train_x2[:,:2][:,1], c=y_kmeans)\n",
    "\n",
    "plt.show()"
   ]
  },
  {
   "cell_type": "code",
   "execution_count": null,
   "metadata": {
    "collapsed": true
   },
   "outputs": [],
   "source": []
  }
 ],
 "metadata": {
  "kernelspec": {
   "display_name": "Python 2",
   "language": "python",
   "name": "python2"
  },
  "language_info": {
   "codemirror_mode": {
    "name": "ipython",
    "version": 2
   },
   "file_extension": ".py",
   "mimetype": "text/x-python",
   "name": "python",
   "nbconvert_exporter": "python",
   "pygments_lexer": "ipython2",
   "version": "2.7.13"
  }
 },
 "nbformat": 4,
 "nbformat_minor": 2
}
