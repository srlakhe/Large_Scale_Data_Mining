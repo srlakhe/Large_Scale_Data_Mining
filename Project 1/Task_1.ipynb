{
 "cells": [
  {
   "cell_type": "markdown",
   "metadata": {},
   "source": [
    "<h1> Classification Analysis on Textual Data </h1>"
   ]
  },
  {
   "cell_type": "markdown",
   "metadata": {},
   "source": [
    "\n",
    "<h3> \n",
    "This file contains code for histogram, data preprocessing and most significant terms.<br>\n",
    "Code By:<br>\n",
    "   Konark J S Kumar - 204759469<br>\n",
    "   Shreyas Lakhe - 105026650\n",
    "</h3>"
   ]
  },
  {
   "cell_type": "markdown",
   "metadata": {},
   "source": [
    "Listing all package import statements"
   ]
  },
  {
   "cell_type": "code",
   "execution_count": 1,
   "metadata": {},
   "outputs": [],
   "source": [
    "from sklearn.datasets import fetch_20newsgroups\n",
    "import numpy as np\n",
    "import matplotlib.pyplot as plt\n",
    "import nltk\n",
    "from nltk.corpus import stopwords\n",
    "from nltk.tokenize import word_tokenize\n",
    "from nltk.tokenize import RegexpTokenizer\n",
    "import re\n",
    "from nltk.stem import PorterStemmer\n",
    "porter = PorterStemmer()\n",
    "from sklearn.feature_extraction.text import CountVectorizer\n",
    "from sklearn.feature_extraction.text import TfidfVectorizer\n",
    "from sklearn.decomposition import NMF"
   ]
  },
  {
   "cell_type": "markdown",
   "metadata": {},
   "source": [
    "Some utility functions that are going to be used in the program"
   ]
  },
  {
   "cell_type": "code",
   "execution_count": 2,
   "metadata": {},
   "outputs": [],
   "source": [
    "def preprocess_data(data):\n",
    "\tletters_only = re.sub(\"[^a-zA-Z]\", \" \", data)\n",
    "\tlower_case = letters_only.lower()\n",
    "\twords = lower_case.split()\n",
    "\n",
    "\twords = [w for w in words if not w in stopwords.words('english')]\n",
    "\tps = PorterStemmer()\n",
    "\twords = [ps.stem(w) for w in words]\n",
    "\treturn(\" \".join( words ))"
   ]
  },
  {
   "cell_type": "markdown",
   "metadata": {},
   "source": [
    "We now find the 10 most significant terms/words in each class with respect to TFxICF measure."
   ]
  },
  {
   "cell_type": "code",
   "execution_count": 11,
   "metadata": {},
   "outputs": [],
   "source": [
    "categories = ['alt.atheism',\n",
    " 'comp.graphics',\n",
    " 'comp.os.ms-windows.misc',\n",
    " 'comp.sys.ibm.pc.hardware',\n",
    " 'comp.sys.mac.hardware',\n",
    " 'comp.windows.x',\n",
    " 'misc.forsale',\n",
    " 'rec.autos',\n",
    " 'rec.motorcycles',\n",
    " 'rec.sport.baseball',\n",
    " 'rec.sport.hockey',\n",
    " 'sci.crypt',\n",
    " 'sci.electronics',\n",
    " 'sci.med',\n",
    " 'sci.space',\n",
    " 'soc.religion.christian',\n",
    " 'talk.politics.guns',\n",
    " 'talk.politics.mideast',\n",
    " 'talk.politics.misc',\n",
    " 'talk.religion.misc']\n",
    "\n",
    "category2 = ['comp.sys.ibm.pc.hardware', 'comp.sys.mac.hardware', 'misc.forsale', 'soc.religion.christian']\n",
    "\n",
    "class_data_list = []\n",
    "\n",
    "for cat in category2:\n",
    "    category = [cat]\n",
    "    class_data = fetch_20newsgroups(subset='train', categories=category, random_state=42)\n",
    "    data_string = \"\"\n",
    "    for data in class_data.data:\n",
    "        data_string = data_string + \" \" + preprocess_data(data)\n",
    "    class_data_list.append(data_string)\n",
    "\n",
    "    \n",
    "tfidfVec = TfidfVectorizer(min_df=2)\n",
    "X_train_data = tfidfVec.fit_transform(class_data_list)\n",
    "\n"
   ]
  },
  {
   "cell_type": "code",
   "execution_count": 12,
   "metadata": {},
   "outputs": [
    {
     "name": "stdout",
     "output_type": "stream",
     "text": [
      "('comp.sys.ibm.pc.hardware', [u'system', u'card', u'organ', u'subject', u'line', u'use', u'com', u'scsi', u'edu', u'drive'])\n",
      "('comp.sys.mac.hardware', [u'drive', u'problem', u'post', u'appl', u'use', u'organ', u'subject', u'mac', u'line', u'edu'])\n",
      "('misc.forsale', [u'use', u'univers', u'new', u'post', u'com', u'sale', u'organ', u'subject', u'line', u'edu'])\n",
      "('soc.religion.christian', [u'line', u'peopl', u'subject', u'church', u'jesu', u'would', u'one', u'edu', u'christian', u'god'])\n"
     ]
    }
   ],
   "source": [
    "for i in range(len(category2)):\n",
    "    \n",
    "    cat = category2[i]\n",
    "    top_ten_terms = []\n",
    "    \n",
    "    row = X_train_data.getrow(i).toarray()[0].ravel()\n",
    "    top_ten_indicies = row.argsort()[-10:]\n",
    "    top_ten_values = row[top_ten_indicies]    \n",
    "    \n",
    "    for i in top_ten_indicies:\n",
    "        top_ten_terms.append(tfidfVec.get_feature_names()[i])\n",
    "\n",
    "    print(cat, top_ten_terms)\n",
    "        "
   ]
  },
  {
   "cell_type": "markdown",
   "metadata": {},
   "source": [
    "<b>In the next part of the project we will work with just 8 classes </b>"
   ]
  },
  {
   "cell_type": "code",
   "execution_count": 15,
   "metadata": {},
   "outputs": [],
   "source": [
    "classes = ['comp.graphics',\n",
    "           'comp.os.ms-windows.misc',\n",
    "           'comp.sys.ibm.pc.hardware',\n",
    "           'comp.sys.mac.hardware',\n",
    "           'rec.autos',\n",
    "           'rec.motorcycles',\n",
    "           'rec.sport.baseball',\n",
    "           'rec.sport.hockey']"
   ]
  },
  {
   "cell_type": "code",
   "execution_count": 16,
   "metadata": {},
   "outputs": [],
   "source": [
    "training_data = fetch_20newsgroups(subset = 'train', categories = classes, shuffle = True, random_state = 42)"
   ]
  },
  {
   "cell_type": "markdown",
   "metadata": {},
   "source": [
    "<b>To the data of the 8 classes we plot a histogram of the number of training documents per class to check if they are evenly distributed.</b>"
   ]
  },
  {
   "cell_type": "code",
   "execution_count": 17,
   "metadata": {},
   "outputs": [
    {
     "data": {
      "image/png": "[encoded data removed]",
      "text/plain": [
       "<matplotlib.figure.Figure at 0x7fcbfa8c3510>"
      ]
     },
     "metadata": {},
     "output_type": "display_data"
    }
   ],
   "source": [
    "target_classes = training_data.target\n",
    "plt.hist(target_classes, bins=np.arange(target_classes.min(), target_classes.max()+2))\n",
    "plt.title(\"Histogram of number of training documents per class\")\n",
    "plt.show()"
   ]
  },
  {
   "cell_type": "markdown",
   "metadata": {},
   "source": [
    "Preprocess data and do TFIDF\n"
   ]
  },
  {
   "cell_type": "code",
   "execution_count": 18,
   "metadata": {},
   "outputs": [],
   "source": [
    "preprocessed_train_data = []\n",
    "\n",
    "for data in training_data.data:\n",
    "    preprocessed_train_data.append(preprocess_data(data))"
   ]
  },
  {
   "cell_type": "code",
   "execution_count": 19,
   "metadata": {},
   "outputs": [],
   "source": [
    "TFIDFVec2 = TfidfVectorizer(min_df=2)\n",
    "train_data_mat2 = TFIDFVec2.fit_transform(preprocessed_train_data)"
   ]
  },
  {
   "cell_type": "code",
   "execution_count": 20,
   "metadata": {},
   "outputs": [
    {
     "name": "stdout",
     "output_type": "stream",
     "text": [
      "Number of terms for min_df=2: 19406\n"
     ]
    }
   ],
   "source": [
    "print(\"Number of terms for min_df=2: \" + str(len(TFIDFVec2.vocabulary_)))"
   ]
  },
  {
   "cell_type": "code",
   "execution_count": 27,
   "metadata": {},
   "outputs": [
    {
     "data": {
      "text/plain": [
       "(4732, 19406)"
      ]
     },
     "execution_count": 27,
     "metadata": {},
     "output_type": "execute_result"
    }
   ],
   "source": [
    "train_data_mat2.shape"
   ]
  },
  {
   "cell_type": "code",
   "execution_count": 23,
   "metadata": {},
   "outputs": [],
   "source": [
    "TFIDFVec5 = TfidfVectorizer(min_df=5)\n",
    "train_data_mat5 = TFIDFVec5.fit_transform(preprocessed_train_data)"
   ]
  },
  {
   "cell_type": "code",
   "execution_count": 24,
   "metadata": {},
   "outputs": [
    {
     "name": "stdout",
     "output_type": "stream",
     "text": [
      "Number of terms for min_df=59058\n"
     ]
    }
   ],
   "source": [
    "print(\"Number of terms for min_df=5\" + str(len(TFIDFVec5.vocabulary_)))"
   ]
  },
  {
   "cell_type": "code",
   "execution_count": 34,
   "metadata": {},
   "outputs": [
    {
     "data": {
      "text/plain": [
       "(4732, 9058)"
      ]
     },
     "execution_count": 34,
     "metadata": {},
     "output_type": "execute_result"
    }
   ],
   "source": [
    "train_data_mat5.shape"
   ]
  },
  {
   "cell_type": "code",
   "execution_count": 36,
   "metadata": {},
   "outputs": [
    {
     "name": "stdout",
     "output_type": "stream",
     "text": [
      "(4732, 50)\n"
     ]
    }
   ],
   "source": [
    "model = NMF(n_components=50, init='random', random_state=0)\n",
    "W_train = model.fit_transform(train_data_mat5)\n",
    "print W_train.shape"
   ]
  },
  {
   "cell_type": "code",
   "execution_count": null,
   "metadata": {
    "collapsed": true
   },
   "outputs": [],
   "source": []
  }
 ],
 "metadata": {
  "kernelspec": {
   "display_name": "Python 2",
   "language": "python",
   "name": "python2"
  },
  "language_info": {
   "codemirror_mode": {
    "name": "ipython",
    "version": 2
   },
   "file_extension": ".py",
   "mimetype": "text/x-python",
   "name": "python",
   "nbconvert_exporter": "python",
   "pygments_lexer": "ipython2",
   "version": "2.7.12"
  }
 },
 "nbformat": 4,
 "nbformat_minor": 2
}
