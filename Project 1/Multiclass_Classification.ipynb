{
 "cells": [
  {
   "cell_type": "markdown",
   "metadata": {},
   "source": [
    "<h3> This file contains code for various multiclass classification models with Non negative Matrix Factorization and Latent Semantic Indexing<br>\n",
    "Code By:<br>\n",
    "Konark J S Kumar - 204759469<br>\n",
    "Shreyas Lakhe - 105026650\n",
    "</h3>"
   ]
  },
  {
   "cell_type": "code",
   "execution_count": 3,
   "metadata": {
    "collapsed": true
   },
   "outputs": [],
   "source": [
    "from sklearn.datasets import fetch_20newsgroups\n",
    "from sklearn.utils import shuffle\n",
    "from sklearn import svm\n",
    "from nltk.corpus import stopwords\n",
    "from nltk.stem import PorterStemmer\n",
    "from sklearn.feature_extraction.text import TfidfTransformer\n",
    "from sklearn.feature_extraction.text import CountVectorizer\n",
    "from sklearn.metrics import precision_recall_fscore_support\n",
    "from sklearn.metrics import accuracy_score, roc_curve, precision_score, recall_score\n",
    "import scikitplot as skplt\n",
    "import matplotlib.pyplot as plt\n",
    "import re\n",
    "from sklearn.model_selection import GridSearchCV\n",
    "from sklearn.metrics import classification_report\n",
    "from sklearn.metrics import confusion_matrix\n",
    "from sklearn.decomposition import NMF\n",
    "from sklearn.decomposition import TruncatedSVD\n",
    "from sklearn.naive_bayes import MultinomialNB\n",
    "from sklearn.multiclass import OneVsRestClassifier"
   ]
  },
  {
   "cell_type": "code",
   "execution_count": 4,
   "metadata": {
    "collapsed": true
   },
   "outputs": [],
   "source": [
    "classes = ['comp.sys.ibm.pc.hardware', 'comp.sys.mac.hardware', 'misc.forsale', 'soc.religion.christian']"
   ]
  },
  {
   "cell_type": "code",
   "execution_count": 5,
   "metadata": {
    "collapsed": true
   },
   "outputs": [],
   "source": [
    "train_x = fetch_20newsgroups(subset='train', categories=classes, shuffle=True, random_state=42)\n",
    "test_x = fetch_20newsgroups(subset='test', categories=classes, shuffle=True, random_state=42)\n",
    "train_y = train_x.target\n",
    "test_y = test_x.target"
   ]
  },
  {
   "cell_type": "code",
   "execution_count": 6,
   "metadata": {
    "collapsed": true
   },
   "outputs": [],
   "source": [
    "def preprocess_data(data):\n",
    "        letters_only = re.sub(\"[^a-zA-Z]\", \" \", data)\n",
    "        words = letters_only.split()\n",
    "        ps = PorterStemmer()\n",
    "        words = [ps.stem(w).lower() for w in words if not w.lower() in stopwords.words('english')]\n",
    "        return(\" \".join( words ))"
   ]
  },
  {
   "cell_type": "code",
   "execution_count": 7,
   "metadata": {
    "collapsed": true
   },
   "outputs": [],
   "source": [
    "preproc_train_data = []\n",
    "\n",
    "for data in train_x.data:\n",
    "\tpreproc_train_data.append(preprocess_data(data))"
   ]
  },
  {
   "cell_type": "code",
   "execution_count": 8,
   "metadata": {
    "collapsed": true
   },
   "outputs": [],
   "source": [
    "preproc_test_data = []\n",
    "\n",
    "for data in test_x.data:\n",
    "\tpreproc_test_data.append(preprocess_data(data))"
   ]
  },
  {
   "cell_type": "code",
   "execution_count": 9,
   "metadata": {
    "collapsed": true
   },
   "outputs": [],
   "source": [
    "vectorizer = CountVectorizer(min_df = 2)\n",
    "tfidf_transformer = TfidfTransformer()"
   ]
  },
  {
   "cell_type": "code",
   "execution_count": 10,
   "metadata": {
    "collapsed": true
   },
   "outputs": [],
   "source": [
    "vec_train_x = vectorizer.fit_transform(preproc_train_data)\n",
    "tfidf_train_x = tfidf_transformer.fit_transform(vec_train_x)"
   ]
  },
  {
   "cell_type": "code",
   "execution_count": 11,
   "metadata": {
    "collapsed": true
   },
   "outputs": [],
   "source": [
    "vec_test_x = vectorizer.transform(preproc_test_data)\n",
    "tfidf_test_x = tfidf_transformer.transform(vec_test_x)"
   ]
  },
  {
   "cell_type": "markdown",
   "metadata": {},
   "source": [
    "<h2>Classification after Non-Negative Matrix Factorization (NMF) reduction</h2>"
   ]
  },
  {
   "cell_type": "code",
   "execution_count": 12,
   "metadata": {
    "collapsed": true
   },
   "outputs": [],
   "source": [
    "nmf_model = NMF(n_components=50, init='random', random_state=0)"
   ]
  },
  {
   "cell_type": "code",
   "execution_count": 13,
   "metadata": {
    "collapsed": true
   },
   "outputs": [],
   "source": [
    "train_x = nmf_model.fit_transform(tfidf_train_x)\n",
    "test_x = nmf_model.transform(tfidf_test_x)"
   ]
  },
  {
   "cell_type": "markdown",
   "metadata": {},
   "source": [
    "<h3>Naive Bayes Classifier (One vs One)</h3>"
   ]
  },
  {
   "cell_type": "code",
   "execution_count": 14,
   "metadata": {
    "collapsed": true
   },
   "outputs": [],
   "source": [
    "classifier_NB = MultinomialNB().fit(train_x, train_y)"
   ]
  },
  {
   "cell_type": "code",
   "execution_count": 15,
   "metadata": {
    "collapsed": true
   },
   "outputs": [],
   "source": [
    "y_predict_nb = classifier_NB.predict(test_x)\n",
    "y_predict_nb_prob = classifier_NB.predict_proba(test_x)"
   ]
  },
  {
   "cell_type": "code",
   "execution_count": 16,
   "metadata": {
    "collapsed": true
   },
   "outputs": [],
   "source": [
    "#skplt.metrics.plot_roc_curve(test_y, y_predict_nb_prob)\n",
    "#plt.show()"
   ]
  },
  {
   "cell_type": "code",
   "execution_count": 17,
   "metadata": {},
   "outputs": [
    {
     "data": {
      "text/plain": [
       "array([[316,  28,  44,   4],\n",
       "       [108, 235,  38,   4],\n",
       "       [ 56,  14, 315,   5],\n",
       "       [  1,   0,   2, 395]])"
      ]
     },
     "execution_count": 17,
     "metadata": {},
     "output_type": "execute_result"
    }
   ],
   "source": [
    "confusion_matrix(test_y, y_predict_nb)"
   ]
  },
  {
   "cell_type": "code",
   "execution_count": 18,
   "metadata": {},
   "outputs": [
    {
     "name": "stdout",
     "output_type": "stream",
     "text": [
      "('Accuracy : ', 0.80575079872204469)\n",
      "                          precision    recall  f1-score   support\n",
      "\n",
      "comp.sys.ibm.pc.hardware       0.66      0.81      0.72       392\n",
      "   comp.sys.mac.hardware       0.85      0.61      0.71       385\n",
      "            misc.forsale       0.79      0.81      0.80       390\n",
      "  soc.religion.christian       0.97      0.99      0.98       398\n",
      "\n",
      "             avg / total       0.82      0.81      0.80      1565\n",
      "\n"
     ]
    }
   ],
   "source": [
    "print(\"Accuracy : \", accuracy_score(test_y, y_predict_nb))\n",
    "#print(\"Precision : \",precision_score(test_y, y_predict_nb))\n",
    "#print(\"Recall : \",recall_score(test_y, y_predict_nb))\n",
    "\n",
    "print(classification_report(test_y, y_predict_nb, target_names=classes))"
   ]
  },
  {
   "cell_type": "markdown",
   "metadata": {},
   "source": [
    "<h3>Naive Bayes (One vs Rest) </h3>"
   ]
  },
  {
   "cell_type": "code",
   "execution_count": 19,
   "metadata": {},
   "outputs": [
    {
     "data": {
      "text/plain": [
       "OneVsRestClassifier(estimator=MultinomialNB(alpha=1.0, class_prior=None, fit_prior=True),\n",
       "          n_jobs=1)"
      ]
     },
     "execution_count": 19,
     "metadata": {},
     "output_type": "execute_result"
    }
   ],
   "source": [
    "classifier_onevsrest = OneVsRestClassifier(classifier_NB)\n",
    "\n",
    "classifier_onevsrest.fit(train_x, train_y)"
   ]
  },
  {
   "cell_type": "code",
   "execution_count": 20,
   "metadata": {
    "collapsed": true
   },
   "outputs": [],
   "source": [
    "y_predict_onevsrest = classifier_onevsrest.predict(test_x)\n",
    "y_predict_onevsrest_prob = classifier_onevsrest.predict_proba(test_x)"
   ]
  },
  {
   "cell_type": "code",
   "execution_count": 21,
   "metadata": {},
   "outputs": [
    {
     "data": {
      "text/plain": [
       "array([[310,  36,  41,   5],\n",
       "       [ 99, 243,  36,   7],\n",
       "       [ 51,  17, 312,  10],\n",
       "       [  0,   0,   1, 397]])"
      ]
     },
     "execution_count": 21,
     "metadata": {},
     "output_type": "execute_result"
    }
   ],
   "source": [
    "confusion_matrix(test_y, y_predict_onevsrest)"
   ]
  },
  {
   "cell_type": "code",
   "execution_count": 22,
   "metadata": {},
   "outputs": [
    {
     "name": "stdout",
     "output_type": "stream",
     "text": [
      "('Accuracy : ', 0.80638977635782749)\n",
      "                          precision    recall  f1-score   support\n",
      "\n",
      "comp.sys.ibm.pc.hardware       0.67      0.79      0.73       392\n",
      "   comp.sys.mac.hardware       0.82      0.63      0.71       385\n",
      "            misc.forsale       0.80      0.80      0.80       390\n",
      "  soc.religion.christian       0.95      1.00      0.97       398\n",
      "\n",
      "             avg / total       0.81      0.81      0.80      1565\n",
      "\n"
     ]
    }
   ],
   "source": [
    "print(\"Accuracy : \", accuracy_score(test_y, y_predict_onevsrest))\n",
    "\n",
    "print(classification_report(test_y, y_predict_onevsrest, target_names=classes))"
   ]
  },
  {
   "cell_type": "markdown",
   "metadata": {},
   "source": [
    "<h3>SVM Multiclass Classifier (OneVsOne)</h3>"
   ]
  },
  {
   "cell_type": "code",
   "execution_count": 23,
   "metadata": {},
   "outputs": [
    {
     "data": {
      "text/plain": [
       "SVC(C=1000.0, cache_size=200, class_weight=None, coef0=0.0,\n",
       "  decision_function_shape='ovr', degree=3, gamma='auto', kernel='linear',\n",
       "  max_iter=-1, probability=True, random_state=None, shrinking=True,\n",
       "  tol=0.001, verbose=False)"
      ]
     },
     "execution_count": 23,
     "metadata": {},
     "output_type": "execute_result"
    }
   ],
   "source": [
    "classifier_onevsone = svm.SVC(C=1000., probability=True, kernel='linear')\n",
    "classifier_onevsone.fit(train_x, train_y)"
   ]
  },
  {
   "cell_type": "code",
   "execution_count": 24,
   "metadata": {
    "collapsed": true
   },
   "outputs": [],
   "source": [
    "y_predict_onevsone = classifier_onevsone.predict(test_x)\n",
    "y_predict_onevsone_prob = classifier_onevsone.predict_proba(test_x)"
   ]
  },
  {
   "cell_type": "code",
   "execution_count": 25,
   "metadata": {},
   "outputs": [
    {
     "data": {
      "text/plain": [
       "array([[309,  60,  21,   2],\n",
       "       [ 68, 287,  28,   2],\n",
       "       [ 23,  23, 342,   2],\n",
       "       [  6,   3,   2, 387]])"
      ]
     },
     "execution_count": 25,
     "metadata": {},
     "output_type": "execute_result"
    }
   ],
   "source": [
    "confusion_matrix(test_y, y_predict_onevsone)"
   ]
  },
  {
   "cell_type": "code",
   "execution_count": 26,
   "metadata": {},
   "outputs": [
    {
     "name": "stdout",
     "output_type": "stream",
     "text": [
      "('Accuracy : ', 0.84664536741214058)\n",
      "                          precision    recall  f1-score   support\n",
      "\n",
      "comp.sys.ibm.pc.hardware       0.76      0.79      0.77       392\n",
      "   comp.sys.mac.hardware       0.77      0.75      0.76       385\n",
      "            misc.forsale       0.87      0.88      0.87       390\n",
      "  soc.religion.christian       0.98      0.97      0.98       398\n",
      "\n",
      "             avg / total       0.85      0.85      0.85      1565\n",
      "\n"
     ]
    }
   ],
   "source": [
    "print(\"Accuracy : \", accuracy_score(test_y, y_predict_onevsone))\n",
    "\n",
    "print(classification_report(test_y, y_predict_onevsone, target_names=classes))"
   ]
  },
  {
   "cell_type": "markdown",
   "metadata": {},
   "source": [
    "<h3>SVM MultiClass Classifier (OneVsRest) </h3>"
   ]
  },
  {
   "cell_type": "code",
   "execution_count": 27,
   "metadata": {},
   "outputs": [
    {
     "data": {
      "text/plain": [
       "OneVsRestClassifier(estimator=SVC(C=1000.0, cache_size=200, class_weight=None, coef0=0.0,\n",
       "  decision_function_shape='ovr', degree=3, gamma='auto', kernel='linear',\n",
       "  max_iter=-1, probability=True, random_state=None, shrinking=True,\n",
       "  tol=0.001, verbose=False),\n",
       "          n_jobs=1)"
      ]
     },
     "execution_count": 27,
     "metadata": {},
     "output_type": "execute_result"
    }
   ],
   "source": [
    "classifier_onevsall = OneVsRestClassifier(svm.SVC(C=1000., probability=True, kernel='linear'))\n",
    "classifier_onevsall.fit(train_x, train_y)"
   ]
  },
  {
   "cell_type": "code",
   "execution_count": 28,
   "metadata": {
    "collapsed": true
   },
   "outputs": [],
   "source": [
    "y_predict_onevsall = classifier_onevsall.predict(test_x)"
   ]
  },
  {
   "cell_type": "code",
   "execution_count": 29,
   "metadata": {},
   "outputs": [
    {
     "data": {
      "text/plain": [
       "array([[312,  50,  26,   4],\n",
       "       [ 60, 295,  28,   2],\n",
       "       [ 23,  21, 343,   3],\n",
       "       [  2,   1,   1, 394]])"
      ]
     },
     "execution_count": 29,
     "metadata": {},
     "output_type": "execute_result"
    }
   ],
   "source": [
    "confusion_matrix(test_y, y_predict_onevsall)"
   ]
  },
  {
   "cell_type": "code",
   "execution_count": 30,
   "metadata": {},
   "outputs": [
    {
     "name": "stdout",
     "output_type": "stream",
     "text": [
      "('Accuracy : ', 0.85878594249201279)\n",
      "                          precision    recall  f1-score   support\n",
      "\n",
      "comp.sys.ibm.pc.hardware       0.79      0.80      0.79       392\n",
      "   comp.sys.mac.hardware       0.80      0.77      0.78       385\n",
      "            misc.forsale       0.86      0.88      0.87       390\n",
      "  soc.religion.christian       0.98      0.99      0.98       398\n",
      "\n",
      "             avg / total       0.86      0.86      0.86      1565\n",
      "\n"
     ]
    }
   ],
   "source": [
    "print(\"Accuracy : \", accuracy_score(test_y, y_predict_onevsall))\n",
    "print(classification_report(test_y, y_predict_onevsall, target_names=classes))"
   ]
  },
  {
   "cell_type": "markdown",
   "metadata": {},
   "source": [
    "<h2>Classification after Latent Semantic Indexing(LSI) reduction</h2>"
   ]
  },
  {
   "cell_type": "code",
   "execution_count": 31,
   "metadata": {
    "collapsed": true
   },
   "outputs": [],
   "source": [
    "svd_model = TruncatedSVD(n_components=50, random_state=0)"
   ]
  },
  {
   "cell_type": "code",
   "execution_count": 32,
   "metadata": {
    "collapsed": true
   },
   "outputs": [],
   "source": [
    "train_x_lsa = svd_model.fit_transform(tfidf_train_x)\n",
    "test_x_lsa = svd_model.transform(tfidf_test_x)"
   ]
  },
  {
   "cell_type": "markdown",
   "metadata": {},
   "source": [
    "<h3>SVM Multiclass Classifier (OneVsOne)</h3>"
   ]
  },
  {
   "cell_type": "code",
   "execution_count": 34,
   "metadata": {},
   "outputs": [
    {
     "data": {
      "text/plain": [
       "SVC(C=1000.0, cache_size=200, class_weight=None, coef0=0.0,\n",
       "  decision_function_shape='ovr', degree=3, gamma='auto', kernel='linear',\n",
       "  max_iter=-1, probability=True, random_state=None, shrinking=True,\n",
       "  tol=0.001, verbose=False)"
      ]
     },
     "execution_count": 34,
     "metadata": {},
     "output_type": "execute_result"
    }
   ],
   "source": [
    "classifier_onevsone_lsa = svm.SVC(C=1000., probability=True, kernel='linear')\n",
    "classifier_onevsone_lsa.fit(train_x_lsa, train_y)"
   ]
  },
  {
   "cell_type": "code",
   "execution_count": 35,
   "metadata": {
    "collapsed": true
   },
   "outputs": [],
   "source": [
    "y_predict_onevsone_lsa = classifier_onevsone_lsa.predict(test_x_lsa)\n",
    "y_predict_onevsone_prob_lsa = classifier_onevsone_lsa.predict_proba(test_x_lsa)"
   ]
  },
  {
   "cell_type": "code",
   "execution_count": 36,
   "metadata": {},
   "outputs": [
    {
     "data": {
      "text/plain": [
       "array([[325,  45,  22,   0],\n",
       "       [ 38, 318,  28,   1],\n",
       "       [ 22,  17, 350,   1],\n",
       "       [  5,   0,   3, 390]])"
      ]
     },
     "execution_count": 36,
     "metadata": {},
     "output_type": "execute_result"
    }
   ],
   "source": [
    "confusion_matrix(test_y, y_predict_onevsone_lsa)"
   ]
  },
  {
   "cell_type": "code",
   "execution_count": 37,
   "metadata": {},
   "outputs": [
    {
     "name": "stdout",
     "output_type": "stream",
     "text": [
      "('Accuracy : ', 0.88370607028753989)\n",
      "                          precision    recall  f1-score   support\n",
      "\n",
      "comp.sys.ibm.pc.hardware       0.83      0.83      0.83       392\n",
      "   comp.sys.mac.hardware       0.84      0.83      0.83       385\n",
      "            misc.forsale       0.87      0.90      0.88       390\n",
      "  soc.religion.christian       0.99      0.98      0.99       398\n",
      "\n",
      "             avg / total       0.88      0.88      0.88      1565\n",
      "\n"
     ]
    }
   ],
   "source": [
    "print(\"Accuracy : \", accuracy_score(test_y, y_predict_onevsone_lsa))\n",
    "\n",
    "print(classification_report(test_y, y_predict_onevsone_lsa, target_names=classes))"
   ]
  },
  {
   "cell_type": "markdown",
   "metadata": {},
   "source": [
    "<h3>SVM MultiClass Classifier (OneVsRest) </h3>"
   ]
  },
  {
   "cell_type": "code",
   "execution_count": 38,
   "metadata": {},
   "outputs": [
    {
     "data": {
      "text/plain": [
       "OneVsRestClassifier(estimator=SVC(C=1000.0, cache_size=200, class_weight=None, coef0=0.0,\n",
       "  decision_function_shape='ovr', degree=3, gamma='auto', kernel='linear',\n",
       "  max_iter=-1, probability=True, random_state=None, shrinking=True,\n",
       "  tol=0.001, verbose=False),\n",
       "          n_jobs=1)"
      ]
     },
     "execution_count": 38,
     "metadata": {},
     "output_type": "execute_result"
    }
   ],
   "source": [
    "classifier_onevsall_lsa = OneVsRestClassifier(svm.SVC(C=1000., probability=True, kernel='linear'))\n",
    "classifier_onevsall_lsa.fit(train_x_lsa, train_y)"
   ]
  },
  {
   "cell_type": "code",
   "execution_count": 39,
   "metadata": {
    "collapsed": true
   },
   "outputs": [],
   "source": [
    "y_predict_onevsall_lsa = classifier_onevsall_lsa.predict(test_x_lsa)"
   ]
  },
  {
   "cell_type": "code",
   "execution_count": 40,
   "metadata": {},
   "outputs": [
    {
     "data": {
      "text/plain": [
       "array([[320,  53,  17,   2],\n",
       "       [ 35, 323,  27,   0],\n",
       "       [ 22,  17, 348,   3],\n",
       "       [  4,   0,   1, 393]])"
      ]
     },
     "execution_count": 40,
     "metadata": {},
     "output_type": "execute_result"
    }
   ],
   "source": [
    "confusion_matrix(test_y, y_predict_onevsall_lsa)"
   ]
  },
  {
   "cell_type": "code",
   "execution_count": 41,
   "metadata": {
    "scrolled": true
   },
   "outputs": [
    {
     "name": "stdout",
     "output_type": "stream",
     "text": [
      "('Accuracy : ', 0.88434504792332269)\n",
      "                          precision    recall  f1-score   support\n",
      "\n",
      "comp.sys.ibm.pc.hardware       0.84      0.82      0.83       392\n",
      "   comp.sys.mac.hardware       0.82      0.84      0.83       385\n",
      "            misc.forsale       0.89      0.89      0.89       390\n",
      "  soc.religion.christian       0.99      0.99      0.99       398\n",
      "\n",
      "             avg / total       0.88      0.88      0.88      1565\n",
      "\n"
     ]
    }
   ],
   "source": [
    "print(\"Accuracy : \", accuracy_score(test_y, y_predict_onevsall_lsa))\n",
    "print(classification_report(test_y, y_predict_onevsall_lsa, target_names=classes))"
   ]
  },
  {
   "cell_type": "code",
   "execution_count": null,
   "metadata": {
    "collapsed": true
   },
   "outputs": [],
   "source": []
  }
 ],
 "metadata": {
  "kernelspec": {
   "display_name": "Python 2",
   "language": "python",
   "name": "python2"
  },
  "language_info": {
   "codemirror_mode": {
    "name": "ipython",
    "version": 2
   },
   "file_extension": ".py",
   "mimetype": "text/x-python",
   "name": "python",
   "nbconvert_exporter": "python",
   "pygments_lexer": "ipython2",
   "version": "2.7.12"
  }
 },
 "nbformat": 4,
 "nbformat_minor": 2
}
