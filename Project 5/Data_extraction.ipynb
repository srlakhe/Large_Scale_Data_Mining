{
 "cells": [
  {
   "cell_type": "code",
   "execution_count": 1,
   "metadata": {},
   "outputs": [],
   "source": [
    "import json\n",
    "import os\n",
    "from os import listdir\n",
    "#import matplotlib.pyplot as plt\n",
    "import datetime, time\n",
    "import pytz\n",
    "#import statsmodels.api as sm\n",
    "import numpy as np\n",
    "import pandas as pd"
   ]
  },
  {
   "cell_type": "code",
   "execution_count": 7,
   "metadata": {},
   "outputs": [],
   "source": [
    "def file_len(fname):\n",
    "    with open(fname) as f:\n",
    "        for i, l in enumerate(f):\n",
    "            pass\n",
    "    return i + 1"
   ]
  },
  {
   "cell_type": "code",
   "execution_count": null,
   "metadata": {},
   "outputs": [
    {
     "name": "stdout",
     "output_type": "stream",
     "text": [
      "['tweets_#gohawks.txt', 'tweets_#gopatriots.txt', 'tweets_#nfl.txt', 'tweets_#patriots.txt', 'tweets_#sb49.txt', 'tweets_#superbowl.txt']\n",
      "opening done tweets_#sb49.txt\n",
      "number of lines = 826950\n",
      "0 lines completed\n",
      "50000 lines completed\n",
      "100000 lines completed\n",
      "150000 lines completed\n",
      "200000 lines completed\n",
      "250000 lines completed\n",
      "300000 lines completed\n",
      "350000 lines completed\n",
      "400000 lines completed\n",
      "450000 lines completed\n",
      "500000 lines completed\n",
      "550000 lines completed\n",
      "600000 lines completed\n"
     ]
    }
   ],
   "source": [
    "tweet_data_filenames = os.listdir(\"D:/Git/Data_for_project5\")\n",
    "#tweet_data_filenames = [\"a.txt\"]\n",
    "print(tweet_data_filenames)\n",
    "\n",
    "pst_tz = pytz.timezone('US/Pacific')\n",
    "for file_num, file in enumerate(tweet_data_filenames):\n",
    "    if file_num != 4:\n",
    "        continue\n",
    "    with open(\"D:/Git/Data_for_project5/\" + file,'r',encoding = 'utf-8') as f:\n",
    "        \n",
    "        print('opening done ' + file)\n",
    "        for length,l in enumerate(f):\n",
    "            pass\n",
    "        print(\"number of lines = \" + str(length))\n",
    "    \n",
    "        df = pd.DataFrame(0, index=np.arange(length), columns=['time_of_tweet', 'num_of_tweets', 'num_retweets', 'sum_followers', 'max_followers'])\n",
    "        #df = pd.DataFrame(columns = ['time_of_tweet', 'num_of_tweets', 'num_retweets', 'sum_followers', 'max_followers'])\n",
    "        with open(\"D:/Git/Data_for_project5/\" + file,'r',encoding = 'utf-8') as f:\n",
    "            for i,line in enumerate(f):\n",
    "                if i % 50000 == 0:\n",
    "                    print(str(i) + \" lines completed\")\n",
    "                tweet = json.loads(line)\n",
    "                time_of_tweet = datetime.datetime.fromtimestamp(tweet['citation_date'],pst_tz)\n",
    "                num_of_tweets = 1\n",
    "                num_retweets = tweet['metrics']['citations']['total']\n",
    "                sum_followers = tweet['author']['followers']\n",
    "                max_followers = tweet['author']['followers']\n",
    "\n",
    "                df.set_value(i,'time_of_tweet', time_of_tweet)\n",
    "                df.set_value(i,'num_of_tweets', num_of_tweets)\n",
    "                df.set_value(i,'num_retweets', num_retweets)\n",
    "                df.set_value(i,'sum_followers', sum_followers)\n",
    "                df.set_value(i,'max_followers', max_followers)\n",
    "            df.to_csv(\"df_\" + file + \".csv\")"
   ]
  },
  {
   "cell_type": "code",
   "execution_count": null,
   "metadata": {},
   "outputs": [],
   "source": []
  }
 ],
 "metadata": {
  "kernelspec": {
   "display_name": "Python [default]",
   "language": "python",
   "name": "python3"
  },
  "language_info": {
   "codemirror_mode": {
    "name": "ipython",
    "version": 3
   },
   "file_extension": ".py",
   "mimetype": "text/x-python",
   "name": "python",
   "nbconvert_exporter": "python",
   "pygments_lexer": "ipython3",
   "version": "3.5.2"
  }
 },
 "nbformat": 4,
 "nbformat_minor": 2
}
