{
 "cells": [
  {
   "cell_type": "code",
   "execution_count": 9,
   "metadata": {
    "collapsed": true
   },
   "outputs": [],
   "source": [
    "import pandas as pd\n",
    "import numpy as np\n",
    "import re\n",
    "import json\n",
    "from sklearn import svm\n",
    "from nltk.corpus import stopwords\n",
    "from nltk.stem import PorterStemmer\n",
    "from sklearn.feature_extraction.text import TfidfTransformer\n",
    "from sklearn.feature_extraction.text import CountVectorizer\n",
    "from sklearn.metrics import precision_recall_fscore_support\n",
    "from sklearn.metrics import accuracy_score, roc_curve, precision_score, recall_score\n",
    "import scikitplot as skplt\n",
    "import matplotlib.pyplot as plt\n",
    "import re\n",
    "from sklearn.model_selection import GridSearchCV\n",
    "from sklearn.metrics import classification_report\n",
    "from sklearn.metrics import confusion_matrix\n",
    "from sklearn.decomposition import TruncatedSVD\n",
    "from sklearn.naive_bayes import MultinomialNB\n",
    "from sklearn.linear_model import LogisticRegression"
   ]
  },
  {
   "cell_type": "code",
   "execution_count": 10,
   "metadata": {
    "collapsed": true
   },
   "outputs": [],
   "source": [
    "f = open('data/tweet_data/tweets_#superbowl.txt', \"r\")\n",
    "wa_pat = re.compile('\\\\bWashington\\\\b|\\\\bWA\\\\b')\n",
    "ma_pat = re.compile('\\\\bMassachusetts\\\\b|\\\\bMA\\\\b')\n",
    "\n",
    "wa_tweets = []\n",
    "ma_tweets = []\n",
    "\n",
    "i = 0\n",
    "for line in f:\n",
    "    json_data = json.loads(line)\n",
    "    if wa_pat.search(json_data['tweet']['user']['location']) and json_data['tweet']['lang'] == 'en':\n",
    "        text = json_data['tweet']['text']\n",
    "        location = json_data['tweet']['user']['location']\n",
    "        time = json_data['citation_date']\n",
    "        wa_tweets.append({'text':text, 'location':location, 'time':time})\n",
    "    elif ma_pat.search(json_data['tweet']['user']['location'])  and json_data['tweet']['lang'] == 'en':\n",
    "        text = json_data['tweet']['text']\n",
    "        location = json_data['tweet']['user']['location']\n",
    "        time = json_data['citation_date']\n",
    "        ma_tweets.append({'text':text, 'location':location, 'time':time})\n"
   ]
  },
  {
   "cell_type": "code",
   "execution_count": 11,
   "metadata": {},
   "outputs": [
    {
     "name": "stdout",
     "output_type": "stream",
     "text": [
      "('Washington', 22581)\n",
      "('Masachussets', 14386)\n"
     ]
    }
   ],
   "source": [
    "print('Washington', len(wa_tweets))\n",
    "print('Masachussets', len(ma_tweets))"
   ]
  },
  {
   "cell_type": "code",
   "execution_count": 14,
   "metadata": {
    "collapsed": true
   },
   "outputs": [],
   "source": [
    "with open(\"data/washington.json\",'w') as outfile:\n",
    "    outfile.write(unicode(json.dumps(wa_tweets)))\n",
    "with open(\"data/dmasachusetts.json\",'w') as outfile:\n",
    "    outfile.write(unicode(json.dumps(ma_tweets)))"
   ]
  },
  {
   "cell_type": "code",
   "execution_count": 15,
   "metadata": {
    "collapsed": true
   },
   "outputs": [],
   "source": [
    "wa_df = pd.DataFrame(wa_tweets)\n",
    "ma_df = pd.DataFrame(ma_tweets)\n",
    "\n",
    "wa_df = wa_df[['text','location', 'time']]\n",
    "ma_df = ma_df[['text','location', 'time']]"
   ]
  },
  {
   "cell_type": "code",
   "execution_count": 16,
   "metadata": {
    "scrolled": true
   },
   "outputs": [
    {
     "data": {
      "text/html": [
       "<div>\n",
       "<style>\n",
       "    .dataframe thead tr:only-child th {\n",
       "        text-align: right;\n",
       "    }\n",
       "\n",
       "    .dataframe thead th {\n",
       "        text-align: left;\n",
       "    }\n",
       "\n",
       "    .dataframe tbody tr th {\n",
       "        vertical-align: top;\n",
       "    }\n",
       "</style>\n",
       "<table border=\"1\" class=\"dataframe\">\n",
       "  <thead>\n",
       "    <tr style=\"text-align: right;\">\n",
       "      <th></th>\n",
       "      <th>text</th>\n",
       "      <th>location</th>\n",
       "      <th>time</th>\n",
       "    </tr>\n",
       "  </thead>\n",
       "  <tbody>\n",
       "    <tr>\n",
       "      <th>0</th>\n",
       "      <td>Our @ButchStearns talked #Patriots w/3X #Super...</td>\n",
       "      <td>Boston, MA</td>\n",
       "      <td>1421496104</td>\n",
       "    </tr>\n",
       "    <tr>\n",
       "      <th>1</th>\n",
       "      <td>@jc_nogales Sunday February 1st. Se juega en A...</td>\n",
       "      <td>Boston, MA, USA</td>\n",
       "      <td>1421238075</td>\n",
       "    </tr>\n",
       "    <tr>\n",
       "      <th>2</th>\n",
       "      <td>@Deadspin Is it worse than #NFL with #Patriots...</td>\n",
       "      <td>Central Massachusetts</td>\n",
       "      <td>1421240049</td>\n",
       "    </tr>\n",
       "    <tr>\n",
       "      <th>3</th>\n",
       "      <td>@katyperry You have to play your \"Lose Your Lo...</td>\n",
       "      <td>Massachusetts</td>\n",
       "      <td>1421248501</td>\n",
       "    </tr>\n",
       "    <tr>\n",
       "      <th>4</th>\n",
       "      <td>@JessicCarpenter thanks for the follow Go #Pat...</td>\n",
       "      <td>Massachusetts</td>\n",
       "      <td>1421253334</td>\n",
       "    </tr>\n",
       "  </tbody>\n",
       "</table>\n",
       "</div>"
      ],
      "text/plain": [
       "                                                text               location  \\\n",
       "0  Our @ButchStearns talked #Patriots w/3X #Super...             Boston, MA   \n",
       "1  @jc_nogales Sunday February 1st. Se juega en A...        Boston, MA, USA   \n",
       "2  @Deadspin Is it worse than #NFL with #Patriots...  Central Massachusetts   \n",
       "3  @katyperry You have to play your \"Lose Your Lo...         Massachusetts    \n",
       "4  @JessicCarpenter thanks for the follow Go #Pat...         Massachusetts    \n",
       "\n",
       "         time  \n",
       "0  1421496104  \n",
       "1  1421238075  \n",
       "2  1421240049  \n",
       "3  1421248501  \n",
       "4  1421253334  "
      ]
     },
     "execution_count": 16,
     "metadata": {},
     "output_type": "execute_result"
    }
   ],
   "source": [
    "ma_df.head()"
   ]
  },
  {
   "cell_type": "code",
   "execution_count": 25,
   "metadata": {
    "collapsed": true
   },
   "outputs": [],
   "source": [
    "ma_df_sorted = ma_df.sort_values(['time'])\n",
    "wa_df_sorted = wa_df.sort_values(['time'])"
   ]
  },
  {
   "cell_type": "code",
   "execution_count": 24,
   "metadata": {},
   "outputs": [
    {
     "data": {
      "text/html": [
       "<div>\n",
       "<style>\n",
       "    .dataframe thead tr:only-child th {\n",
       "        text-align: right;\n",
       "    }\n",
       "\n",
       "    .dataframe thead th {\n",
       "        text-align: left;\n",
       "    }\n",
       "\n",
       "    .dataframe tbody tr th {\n",
       "        vertical-align: top;\n",
       "    }\n",
       "</style>\n",
       "<table border=\"1\" class=\"dataframe\">\n",
       "  <thead>\n",
       "    <tr style=\"text-align: right;\">\n",
       "      <th></th>\n",
       "      <th>text</th>\n",
       "      <th>location</th>\n",
       "      <th>time</th>\n",
       "    </tr>\n",
       "  </thead>\n",
       "  <tbody>\n",
       "    <tr>\n",
       "      <th>1</th>\n",
       "      <td>@jc_nogales Sunday February 1st. Se juega en A...</td>\n",
       "      <td>Boston, MA, USA</td>\n",
       "      <td>1421238075</td>\n",
       "    </tr>\n",
       "    <tr>\n",
       "      <th>2</th>\n",
       "      <td>@Deadspin Is it worse than #NFL with #Patriots...</td>\n",
       "      <td>Central Massachusetts</td>\n",
       "      <td>1421240049</td>\n",
       "    </tr>\n",
       "    <tr>\n",
       "      <th>3</th>\n",
       "      <td>@katyperry You have to play your \"Lose Your Lo...</td>\n",
       "      <td>Massachusetts</td>\n",
       "      <td>1421248501</td>\n",
       "    </tr>\n",
       "    <tr>\n",
       "      <th>4</th>\n",
       "      <td>@JessicCarpenter thanks for the follow Go #Pat...</td>\n",
       "      <td>Massachusetts</td>\n",
       "      <td>1421253334</td>\n",
       "    </tr>\n",
       "    <tr>\n",
       "      <th>5</th>\n",
       "      <td>@spirocks thanks for the follow Go #Patriots #...</td>\n",
       "      <td>Massachusetts</td>\n",
       "      <td>1421253430</td>\n",
       "    </tr>\n",
       "  </tbody>\n",
       "</table>\n",
       "</div>"
      ],
      "text/plain": [
       "                                                text               location  \\\n",
       "1  @jc_nogales Sunday February 1st. Se juega en A...        Boston, MA, USA   \n",
       "2  @Deadspin Is it worse than #NFL with #Patriots...  Central Massachusetts   \n",
       "3  @katyperry You have to play your \"Lose Your Lo...         Massachusetts    \n",
       "4  @JessicCarpenter thanks for the follow Go #Pat...         Massachusetts    \n",
       "5  @spirocks thanks for the follow Go #Patriots #...         Massachusetts    \n",
       "\n",
       "         time  \n",
       "1  1421238075  \n",
       "2  1421240049  \n",
       "3  1421248501  \n",
       "4  1421253334  \n",
       "5  1421253430  "
      ]
     },
     "execution_count": 24,
     "metadata": {},
     "output_type": "execute_result"
    }
   ],
   "source": [
    "ma_df_sorted.head()"
   ]
  },
  {
   "cell_type": "code",
   "execution_count": 26,
   "metadata": {
    "collapsed": true
   },
   "outputs": [],
   "source": [
    "wa_data = wa_df_sorted.as_matrix()"
   ]
  },
  {
   "cell_type": "code",
   "execution_count": 27,
   "metadata": {
    "collapsed": true
   },
   "outputs": [],
   "source": [
    "ma_data = ma_df_sorted.as_matrix()"
   ]
  },
  {
   "cell_type": "code",
   "execution_count": 32,
   "metadata": {
    "collapsed": true
   },
   "outputs": [],
   "source": [
    "wa_sent = []\n",
    "ma_sent = []"
   ]
  },
  {
   "cell_type": "code",
   "execution_count": 33,
   "metadata": {},
   "outputs": [
    {
     "name": "stdout",
     "output_type": "stream",
     "text": [
      "17:54:43.755970\n"
     ]
    },
    {
     "name": "stderr",
     "output_type": "stream",
     "text": [
      "tweetment.py:135: UnicodeWarning: Unicode equal comparison failed to convert both arguments to Unicode - interpreting them as being unequal\n",
      "  if word in w2c:\n",
      "tweetment.py:203: UnicodeWarning: Unicode equal comparison failed to convert both arguments to Unicode - interpreting them as being unequal\n",
      "  if token in lexicons[lexicon][sentiment]:\n",
      "tweetment.py:228: UnicodeWarning: Unicode equal comparison failed to convert both arguments to Unicode - interpreting them as being unequal\n",
      "  if token in lexicons[lexicon][sentiment]:\n"
     ]
    },
    {
     "name": "stdout",
     "output_type": "stream",
     "text": [
      "18:00:32.688459\n"
     ]
    }
   ],
   "source": [
    "print datetime.datetime.now().time()\n",
    "for i in range(0,len(ma_data)):\n",
    "    tweet = ma_data[i,0].encode('utf-8')\n",
    "    sentiment = classifier.classify(tweet)\n",
    "    ma_sent.append(sentiment)\n",
    "    #print \"%s: Classified tweet as %s.\" % (datetime.datetime.now().time(), sentiment)\n",
    "print datetime.datetime.now().time()"
   ]
  },
  {
   "cell_type": "code",
   "execution_count": 37,
   "metadata": {},
   "outputs": [
    {
     "name": "stdout",
     "output_type": "stream",
     "text": [
      "18:03:18.321546\n",
      "18:12:27.373937\n"
     ]
    }
   ],
   "source": [
    "print datetime.datetime.now().time()\n",
    "for i in range(0,len(wa_data)):\n",
    "    tweet = wa_data[i,0].encode('utf-8')\n",
    "    sentiment = classifier.classify(tweet)\n",
    "    wa_sent.append(sentiment)\n",
    "    #print \"%s: Classified tweet as %s.\" % (datetime.datetime.now().time(), sentiment)\n",
    "print datetime.datetime.now().time()"
   ]
  },
  {
   "cell_type": "code",
   "execution_count": 39,
   "metadata": {
    "collapsed": true
   },
   "outputs": [],
   "source": [
    "ffile = open('data/ma_sent.txt', 'w')\n",
    "for i in range(0,len(ma_sent)):\n",
    "    ffile.write(ma_sent[i]+\"\\n\")\n",
    "ffile.close()"
   ]
  },
  {
   "cell_type": "code",
   "execution_count": 19,
   "metadata": {
    "collapsed": true
   },
   "outputs": [],
   "source": [
    "thefile = open('data/test1.txt', 'w')\n",
    "#for i in range(0,len(wa_data)):\n",
    "for i in range(0,50):\n",
    "    thefile.write((wa_data[i,0].replace('\\n', ' ')).encode('utf-8')+\"\\n\")\n",
    "thefile.close()"
   ]
  },
  {
   "cell_type": "code",
   "execution_count": 93,
   "metadata": {
    "collapsed": true
   },
   "outputs": [],
   "source": [
    "thefile = open('data/test_ma.txt', 'w')\n",
    "for i in range(0,len(ma_data)):\n",
    "#for i in range(0,10):\n",
    "    thefile.write((ma_data[i,0].replace('\\n', ' ')).encode('utf-8')+\"\\n\")\n",
    "thefile.close()"
   ]
  },
  {
   "cell_type": "code",
   "execution_count": 43,
   "metadata": {
    "collapsed": true
   },
   "outputs": [],
   "source": [
    "import datetime, time\n",
    "import pytz\n",
    "pst_tz = pytz.timezone('US/Pacific')"
   ]
  },
  {
   "cell_type": "code",
   "execution_count": 68,
   "metadata": {
    "collapsed": true
   },
   "outputs": [],
   "source": [
    "wa_dict = {}\n",
    "ma_dict = {}"
   ]
  },
  {
   "cell_type": "code",
   "execution_count": 69,
   "metadata": {
    "collapsed": true
   },
   "outputs": [],
   "source": [
    "for i in range(0,len(wa_data)):\n",
    "    d = datetime.datetime.fromtimestamp(wa_data[i,2], pst_tz)\n",
    "    key = str(d.month) + \"-\" + str(d.day)\n",
    "    if key in wa_dict:\n",
    "        if wa_sent[i] == 'neutral':\n",
    "            wa_dict[key][0]+=1\n",
    "        elif wa_sent[i] == 'positive':\n",
    "            wa_dict[key][1]+=1\n",
    "        elif wa_sent[i] == 'negative':\n",
    "            wa_dict[key][2]+=1\n",
    "    else:\n",
    "        if wa_sent[i] == 'neutral':\n",
    "            wa_dict[key] = [1,0,0]\n",
    "        elif wa_sent[i] == 'positive':\n",
    "            wa_dict[key] = [0,1,0]\n",
    "        elif wa_sent[i] == 'negative':\n",
    "            wa_dict[key] = [0,0,1]"
   ]
  },
  {
   "cell_type": "code",
   "execution_count": 70,
   "metadata": {
    "collapsed": true
   },
   "outputs": [],
   "source": [
    "for i in range(0,len(ma_data)):\n",
    "    d = datetime.datetime.fromtimestamp(ma_data[i,2], pst_tz)\n",
    "    key = str(d.month) + \"-\" + str(d.day)\n",
    "    if key in ma_dict:\n",
    "        if ma_sent[i] == 'neutral':\n",
    "            ma_dict[key][0]+=1\n",
    "        elif ma_sent[i] == 'positive':\n",
    "            ma_dict[key][1]+=1\n",
    "        elif ma_sent[i] == 'negative':\n",
    "            ma_dict[key][2]+=1\n",
    "    else:\n",
    "        if ma_sent[i] == 'neutral':\n",
    "            ma_dict[key] = [1,0,0]\n",
    "        elif ma_sent[i] == 'positive':\n",
    "            ma_dict[key] = [0,1,0]\n",
    "        elif ma_sent[i] == 'negative':\n",
    "            ma_dict[key] = [0,0,1]"
   ]
  },
  {
   "cell_type": "code",
   "execution_count": 76,
   "metadata": {
    "scrolled": true
   },
   "outputs": [
    {
     "data": {
      "text/plain": [
       "['1-14',\n",
       " '1-15',\n",
       " '1-16',\n",
       " '1-17',\n",
       " '1-18',\n",
       " '1-19',\n",
       " '1-20',\n",
       " '1-21',\n",
       " '1-22',\n",
       " '1-23',\n",
       " '1-24',\n",
       " '1-25',\n",
       " '1-26',\n",
       " '1-27',\n",
       " '1-28',\n",
       " '1-29',\n",
       " '1-30',\n",
       " '1-31',\n",
       " '2-1',\n",
       " '2-2',\n",
       " '2-3',\n",
       " '2-4',\n",
       " '2-5',\n",
       " '2-6',\n",
       " '2-7']"
      ]
     },
     "execution_count": 76,
     "metadata": {},
     "output_type": "execute_result"
    }
   ],
   "source": [
    "date_key =  ma_dict.keys()\n",
    "date_key.sort()\n",
    "date_key"
   ]
  },
  {
   "cell_type": "code",
   "execution_count": 94,
   "metadata": {
    "collapsed": true
   },
   "outputs": [],
   "source": []
  },
  {
   "cell_type": "code",
   "execution_count": 95,
   "metadata": {
    "collapsed": true
   },
   "outputs": [],
   "source": [
    "for i in date_key:\n",
    "    if i in ma_dict:\n",
    "        ma_neutral.append(ma_dict[i][0])\n",
    "        ma_positive.append(ma_dict[i][1])\n",
    "        ma_negative.append(ma_dict[i][2])\n",
    "    if i in wa_dict:\n",
    "        wa_neutral.append(wa_dict[i][0])\n",
    "        wa_positive.append(wa_dict[i][1])\n",
    "        wa_negative.append(wa_dict[i][2])"
   ]
  },
  {
   "cell_type": "code",
   "execution_count": 118,
   "metadata": {
    "collapsed": true
   },
   "outputs": [],
   "source": [
    "def sumzip(*items):\n",
    "    return [sum(values) for values in zip(*items)]"
   ]
  },
  {
   "cell_type": "code",
   "execution_count": 132,
   "metadata": {
    "collapsed": true
   },
   "outputs": [],
   "source": [
    "ma_neutral_norm = []\n",
    "ma_positive_norm = []\n",
    "ma_negative_norm = []\n",
    "\n",
    "wa_neutral_norm = []\n",
    "wa_positive_norm = []\n",
    "wa_negative_norm = []"
   ]
  },
  {
   "cell_type": "code",
   "execution_count": 134,
   "metadata": {
    "collapsed": true
   },
   "outputs": [],
   "source": [
    "for i in date_key:\n",
    "    if i in ma_dict:\n",
    "        nsum = (ma_dict[i][0] + ma_dict[i][1] + ma_dict[i][2])*(1.0/100)\n",
    "        ma_neutral_norm.append(ma_dict[i][0]/nsum)\n",
    "        ma_positive_norm.append(ma_dict[i][1]/nsum)\n",
    "        ma_negative_norm.append(ma_dict[i][2]/nsum)\n",
    "    if i in wa_dict:\n",
    "        nsum = (wa_dict[i][0] + wa_dict[i][1] + wa_dict[i][2])*(1.0/100)\n",
    "        wa_neutral_norm.append(wa_dict[i][0]/nsum)\n",
    "        wa_positive_norm.append(wa_dict[i][1]/nsum)\n",
    "        wa_negative_norm.append(wa_dict[i][2]/nsum)"
   ]
  },
  {
   "cell_type": "code",
   "execution_count": 160,
   "metadata": {
    "collapsed": true
   },
   "outputs": [],
   "source": [
    "wa_dict_hourly = {}\n",
    "ma_dict_hourly = {}"
   ]
  },
  {
   "cell_type": "code",
   "execution_count": 162,
   "metadata": {
    "collapsed": true
   },
   "outputs": [],
   "source": [
    "for i in range(0,len(wa_data)):\n",
    "    d = datetime.datetime.fromtimestamp(wa_data[i,2], pst_tz)\n",
    "    date = str(d.month) + \"-\" + str(d.day)\n",
    "    key = d.hour\n",
    "    if date == \"2-1\" and key in wa_dict_hourly:\n",
    "        if wa_sent[i] == 'neutral':\n",
    "            wa_dict_hourly[key][0]+=1\n",
    "        elif wa_sent[i] == 'positive':\n",
    "            wa_dict_hourly[key][1]+=1\n",
    "        elif wa_sent[i] == 'negative':\n",
    "            wa_dict_hourly[key][2]+=1\n",
    "    elif date == \"2-1\":\n",
    "        if wa_sent[i] == 'neutral':\n",
    "            wa_dict_hourly[key] = [1,0,0]\n",
    "        elif wa_sent[i] == 'positive':\n",
    "            wa_dict_hourly[key] = [0,1,0]\n",
    "        elif wa_sent[i] == 'negative':\n",
    "            wa_dict_hourly[key] = [0,0,1]"
   ]
  },
  {
   "cell_type": "code",
   "execution_count": 164,
   "metadata": {
    "collapsed": true
   },
   "outputs": [],
   "source": [
    "for i in range(0,len(ma_data)):\n",
    "    d = datetime.datetime.fromtimestamp(ma_data[i,2], pst_tz)\n",
    "    date = str(d.month) + \"-\" + str(d.day)\n",
    "    key = d.hour\n",
    "    if date == \"2-1\" and key in ma_dict_hourly:\n",
    "        if ma_sent[i] == 'neutral':\n",
    "            ma_dict_hourly[key][0]+=1\n",
    "        elif ma_sent[i] == 'positive':\n",
    "            ma_dict_hourly[key][1]+=1\n",
    "        elif ma_sent[i] == 'negative':\n",
    "            ma_dict_hourly[key][2]+=1\n",
    "    elif date == \"2-1\":\n",
    "        if ma_sent[i] == 'neutral':\n",
    "            ma_dict_hourly[key] = [1,0,0]\n",
    "        elif ma_sent[i] == 'positive':\n",
    "            ma_dict_hourly[key] = [0,1,0]\n",
    "        elif ma_sent[i] == 'negative':\n",
    "            ma_dict_hourly[key] = [0,0,1]"
   ]
  },
  {
   "cell_type": "code",
   "execution_count": 166,
   "metadata": {
    "collapsed": true
   },
   "outputs": [],
   "source": [
    "ma_neutral_hr = []\n",
    "ma_positive_hr = []\n",
    "ma_negative_hr = []\n",
    "\n",
    "wa_neutral_hr = []\n",
    "wa_positive_hr = []\n",
    "wa_negative_hr = []"
   ]
  },
  {
   "cell_type": "code",
   "execution_count": 167,
   "metadata": {
    "collapsed": true
   },
   "outputs": [],
   "source": [
    "hour_key =  ma_dict_hourly.keys()\n",
    "hour_key.sort()"
   ]
  },
  {
   "cell_type": "code",
   "execution_count": 168,
   "metadata": {
    "collapsed": true
   },
   "outputs": [],
   "source": [
    "for i in hour_key:\n",
    "    if i in ma_dict_hourly:\n",
    "        ma_neutral_hr.append(ma_dict_hourly[i][0])\n",
    "        ma_positive_hr.append(ma_dict_hourly[i][1])\n",
    "        ma_negative_hr.append(ma_dict_hourly[i][2])\n",
    "    if i in wa_dict_hourly:\n",
    "        wa_neutral_hr.append(wa_dict_hourly[i][0])\n",
    "        wa_positive_hr.append(wa_dict_hourly[i][1])\n",
    "        wa_negative_hr.append(wa_dict_hourly[i][2])"
   ]
  },
  {
   "cell_type": "code",
   "execution_count": 186,
   "metadata": {
    "collapsed": true
   },
   "outputs": [],
   "source": [
    "ma_neutral_norm_hr = []\n",
    "ma_positive_norm_hr = []\n",
    "ma_negative_norm_hr = []\n",
    "\n",
    "wa_neutral_norm_hr = []\n",
    "wa_positive_norm_hr = []\n",
    "wa_negative_norm_hr = []"
   ]
  },
  {
   "cell_type": "code",
   "execution_count": 187,
   "metadata": {
    "collapsed": true
   },
   "outputs": [],
   "source": [
    "for i in hour_key:\n",
    "    if i in ma_dict_hourly:\n",
    "        nsum = (ma_dict_hourly[i][0] + ma_dict_hourly[i][1] + ma_dict_hourly[i][2])*(1.0/100)\n",
    "        ma_neutral_norm_hr.append(ma_dict_hourly[i][0]/nsum)\n",
    "        ma_positive_norm_hr.append(ma_dict_hourly[i][1]/nsum)\n",
    "        ma_negative_norm_hr.append(ma_dict_hourly[i][2]/nsum)\n",
    "    if i in wa_dict_hourly:\n",
    "        nsum = (wa_dict_hourly[i][0] + wa_dict_hourly[i][1] + wa_dict_hourly[i][2])*(1.0/100)\n",
    "        wa_neutral_norm_hr.append(wa_dict_hourly[i][0]/nsum)\n",
    "        wa_positive_norm_hr.append(wa_dict_hourly[i][1]/nsum)\n",
    "        wa_negative_norm_hr.append(wa_dict_hourly[i][2]/nsum)"
   ]
  },
  {
   "cell_type": "code",
   "execution_count": null,
   "metadata": {
    "collapsed": true
   },
   "outputs": [],
   "source": []
  }
 ],
 "metadata": {
  "kernelspec": {
   "display_name": "Python 2",
   "language": "python",
   "name": "python2"
  },
  "language_info": {
   "codemirror_mode": {
    "name": "ipython",
    "version": 2
   },
   "file_extension": ".py",
   "mimetype": "text/x-python",
   "name": "python",
   "nbconvert_exporter": "python",
   "pygments_lexer": "ipython2",
   "version": "2.7.13"
  }
 },
 "nbformat": 4,
 "nbformat_minor": 2
}
